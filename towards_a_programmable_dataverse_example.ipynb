{
 "cells": [
  {
   "cell_type": "code",
   "execution_count": null,
   "metadata": {},
   "outputs": [],
   "source": [
    "# This installs the packages so Jupyter Notebook can execute the code. \n",
    "# Version info: python 3.9.7\n",
    "# If you run this in a mybinder.org environment, you do not need to execute this block of code. \n",
    "import sys\n",
    "!conda install --yes --prefix {sys.prefix} requests \n",
    "!conda install --yes --prefix {sys.prefix} jsonschema \n",
    "!conda install --yes --prefix {sys.prefix} pandas \n",
    "!conda install --yes --prefix {sys.prefix} numpy \n",
    "!conda install --yes --prefix {sys.prefix} matplotlib"
   ]
  },
  {
   "cell_type": "code",
   "execution_count": null,
   "metadata": {},
   "outputs": [],
   "source": [
    "# The package pyDataverse handles everything you need to connect and download files from a Dataverse installation.\n",
    "# Check out the documentation: \n",
    "# https://pydataverse.readthedocs.io/en/latest/user/basic-usage.html#download-and-save-a-dataset-to-disk\n",
    "\n",
    "from pyDataverse.api import NativeApi, DataAccessApi\n",
    "import io\n",
    "import pandas as pd"
   ]
  },
  {
   "cell_type": "code",
   "execution_count": null,
   "metadata": {},
   "outputs": [],
   "source": [
    "# Step 1: Define and connect to repository API\n",
    "repository_url = 'https://data.aussda.at/' \n",
    "native_api = NativeApi(repository_url)"
   ]
  },
  {
   "cell_type": "code",
   "execution_count": null,
   "metadata": {},
   "outputs": [],
   "source": [
    "# Step 2: Define and download dataset\n",
    "DOI = \"doi:10.11587/EHJHFJ\"\n",
    "dataset = native_api.get_dataset(DOI)"
   ]
  },
  {
   "cell_type": "code",
   "execution_count": null,
   "metadata": {},
   "outputs": [],
   "source": [
    "# Create a list of files that are available in the dataset\n",
    "files_list = dataset.json()['data']['latestVersion']['files']\n",
    "\n",
    "# Find the first tab-file\n",
    "ident = []\n",
    "\n",
    "for file in files_list:\n",
    "    filename = file[\"dataFile\"][\"filename\"]\n",
    "    file_id = file[\"dataFile\"][\"id\"]\n",
    "    if filename.endswith('.tab'):\n",
    "        ident.append(file_id)\n",
    "\n",
    "# Save the ID of the first tab file that occurs in the list\n",
    "datafile_id = ident[0] \n",
    "\n",
    "# Step 3: Connect to API for data access at the repository\n",
    "data_access_api = DataAccessApi(repository_url)\n",
    "\n",
    "# Step 4: Download data file using its id\n",
    "response = data_access_api.get_datafile(datafile_id)"
   ]
  },
  {
   "cell_type": "code",
   "execution_count": null,
   "metadata": {},
   "outputs": [],
   "source": [
    "## Working with the datafile Pt. 1\n",
    "\n",
    "# Transform the response into a Pandas data frame\n",
    "data = io.StringIO(str(response.content,'utf-8'))\n",
    "\n",
    "# The file is a tab-delimited file in the repository, i.e. the seperator between columns (variables) is a tab.\n",
    "# The first line (the header) consists of the variable names.\n",
    "data = pd.read_csv(data, sep=\"\\t\", index_col=0)"
   ]
  },
  {
   "cell_type": "code",
   "execution_count": null,
   "metadata": {},
   "outputs": [],
   "source": [
    "## Working with the datafile Pt. 2\n",
    "\n",
    "# Show sample data by displaying the first rows\n",
    "data.head()"
   ]
  },
  {
   "cell_type": "code",
   "execution_count": null,
   "metadata": {},
   "outputs": [],
   "source": [
    "# If you want to use the survey data of the Corona Panel Project (Kittel et al, 2020) change the DOI in the code above to \"10.11587/P5YJ0O\" in Step 2. Look at the codebook or the questionnaire to determine which variable contains information on which question."
   ]
  },
  {
   "cell_type": "code",
   "execution_count": null,
   "metadata": {},
   "outputs": [],
   "source": [
    "# Manual Process: Specify the id of the file you want to download, and proceed with Step 1 and Step 2\n",
    "# Check the id numbers for each file.\n",
    "for file in files_list:\n",
    "    filename = file[\"dataFile\"][\"filename\"]\n",
    "    file_id = file[\"dataFile\"][\"id\"]\n",
    "    print(\"File name {} has id {}\".format(filename, file_id))\n",
    "\n",
    "# Specify which file you want to retrieve.\n",
    "datafile_id = 188 \n",
    "# Step 1: Connect to API for data access at the repository\n",
    "data_access_api = DataAccessApi(repository_url)\n",
    "# Step 2: Retrieve data file\n",
    "response = data_access_api.get_datafile(datafile_id)"
   ]
  }
 ],
 "metadata": {
  "kernelspec": {
   "display_name": "Python 3.11.0 64-bit",
   "language": "python",
   "name": "python3"
  },
  "language_info": {
   "name": "python",
   "version": "3.11.0"
  },
  "orig_nbformat": 4,
  "vscode": {
   "interpreter": {
    "hash": "7c9256e19f403212355c83bd725f056dac9b39982057a1ae7cd44617ed58a121"
   }
  }
 },
 "nbformat": 4,
 "nbformat_minor": 2
}
